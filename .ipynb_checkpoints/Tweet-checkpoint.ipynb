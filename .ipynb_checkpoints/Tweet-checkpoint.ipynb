{
 "cells": [
  {
   "cell_type": "code",
   "execution_count": 42,
   "id": "52aea0ff-fc1e-4ff5-8bd3-070b0636b09b",
   "metadata": {},
   "outputs": [
    {
     "name": "stdout",
     "output_type": "stream",
     "text": [
      "                                                text  target sentiment  \\\n",
      "0  @switchfoot http://twitpic.com/2y1zl - Awww, t...       0  Negative   \n",
      "1  is upset that he can't update his Facebook by ...       0  Negative   \n",
      "2  @Kenichan I dived many times for the ball. Man...       0  Negative   \n",
      "3    my whole body feels itchy and like its on fire        0  Negative   \n",
      "4  @nationwideclass no, it's not behaving at all....       0  Negative   \n",
      "\n",
      "                                          lower_text  \\\n",
      "0  @switchfoot http://twitpic.com/2y1zl - awww, t...   \n",
      "1  is upset that he can't update his facebook by ...   \n",
      "2  @kenichan i dived many times for the ball. man...   \n",
      "3    my whole body feels itchy and like its on fire    \n",
      "4  @nationwideclass no, it's not behaving at all....   \n",
      "\n",
      "                                              no_url  \\\n",
      "0  @switchfoot  - a that's a bummer.  you shoulda...   \n",
      "1  is upset that he can't update his facebook by ...   \n",
      "2  @kenichan i dived many times for the ball. man...   \n",
      "3    my whole body feels itchy and like its on fire    \n",
      "4  @nationwideclass no, it's not behaving at all....   \n",
      "\n",
      "                                          no_mention  \\\n",
      "0    - a that's a bummer.  you shoulda got david ...   \n",
      "1  is upset that he can't update his facebook by ...   \n",
      "2   i dived many times for the ball. managed to s...   \n",
      "3    my whole body feels itchy and like its on fire    \n",
      "4   no, it's not behaving at all. i'm mad. why am...   \n",
      "\n",
      "                                          no_hashtag  \n",
      "0    - a that's a bummer.  you shoulda got david ...  \n",
      "1  is upset that he can't update his facebook by ...  \n",
      "2   i dived many times for the ball. managed to s...  \n",
      "3    my whole body feels itchy and like its on fire   \n",
      "4   no, it's not behaving at all. i'm mad. why am...  \n"
     ]
    }
   ],
   "source": [
    "import pandas as pd\n",
    "\n",
    "# Define column names\n",
    "columns = ['target','ids','date','flag','user','text']\n",
    "csv_file = pd.read_csv('tweet.csv', encoding=\"latin1\", names=columns)\n",
    "\n",
    "# Map sentiment labels\n",
    "csv_file['sentiment'] = csv_file['target'].map({0: 'Negative', 2: 'Neutral', 4: 'Positive'})\n",
    "\n",
    "# Make an explicit copy of the relevant columns\n",
    "dataset = csv_file[['text', 'target', 'sentiment']].copy()\n",
    "\n",
    "\n",
    "# Add a new column with lowercase text\n",
    "dataset['lower_text'] = dataset['text'].str.lower()\n",
    "#Remove URLS using apply, lambda and regex\n",
    "dataset['no_url'] = dataset['lower_text'].apply(lambda x: re.sub(r'https\\S+|http\\S+|www\\S+','',str(x)))\n",
    "#remove mentions\n",
    "dataset['no_mention']= dataset['no_url'].apply(lambda x:re.sub(r'@\\w+','',str(x)))\n",
    "#remove hastags\n",
    "dataset['no_hashtag'] = dataset['no_mention'].apply(lambda x : re.sub(r'#w+','',str(x)))\n",
    "\n",
    "print(dataset.head())\n",
    "\n",
    "\n"
   ]
  },
  {
   "cell_type": "code",
   "execution_count": 45,
   "id": "0bc47707-6327-4c3f-902b-bf333de07bdb",
   "metadata": {},
   "outputs": [
    {
     "name": "stdout",
     "output_type": "stream",
     "text": [
      "Reinitialized existing Git repository in C:/Users/ICT Cell/NLP/.git/\n"
     ]
    }
   ],
   "source": [
    "!git init"
   ]
  },
  {
   "cell_type": "code",
   "execution_count": 46,
   "id": "14b3fec9-c9d1-4a2d-b5ec-5c568ab37ec1",
   "metadata": {},
   "outputs": [
    {
     "name": "stdout",
     "output_type": "stream",
     "text": [
      "[main 6752a20] Data Cleaning\n",
      " 32 files changed, 1730938 insertions(+), 346 deletions(-)\n",
      " create mode 100644 .ipynb_checkpoints/Tweet-checkpoint.ipynb\n",
      " create mode 100644 ETL/DB_connection.py\n",
      " create mode 100644 ETL/youtube_markets_videos.csv\n",
      " create mode 100644 ETL/youtube_videos.csv\n",
      " create mode 100644 ETL/yt_url.py\n",
      " create mode 100644 FB Comment/code.py\n",
      " create mode 100644 FB Comment/comments.csv\n",
      " create mode 100644 FB Comment/error.png\n",
      " create mode 100644 FB Comment/selenium/Default/Preferences\n",
      " create mode 100644 FB Comment/selenium/First Run\n",
      " create mode 100644 FB Comment/selenium/Local State\n",
      " create mode 100644 Tweet.ipynb\n",
      " create mode 100644 pothom_alo.py\n",
      " create mode 100644 quotes_scraper/quotes.sql\n",
      " create mode 100644 quotes_scraper/quotes_scraper/__pycache__/__init__.cpython-312.pyc\n",
      " create mode 100644 quotes_scraper/quotes_scraper/__pycache__/items.cpython-312.pyc\n",
      " create mode 100644 quotes_scraper/quotes_scraper/__pycache__/pipelines.cpython-312.pyc\n",
      " create mode 100644 quotes_scraper/quotes_scraper/__pycache__/settings.cpython-312.pyc\n",
      " create mode 100644 quotes_scraper/quotes_scraper/spiders/__pycache__/__init__.cpython-312.pyc\n",
      " create mode 100644 quotes_scraper/quotes_scraper/spiders/__pycache__/quote.cpython-312.pyc\n",
      " delete mode 100644 rokomari/book_details.py\n",
      " create mode 100644 rokomari/book_urls.csv\n",
      " create mode 100644 rokomari/scrap_all_book_details.py\n",
      " rename rokomari/{single_book.py => single_book_details.py} (58%)\n",
      " create mode 100644 tweet.csv\n",
      " create mode 100644 video_links.csv\n"
     ]
    }
   ],
   "source": [
    "!git commit -m \"Data Cleaning\""
   ]
  },
  {
   "cell_type": "code",
   "execution_count": 47,
   "id": "ddcab320-2919-44dc-81cf-181a6a5f2312",
   "metadata": {},
   "outputs": [],
   "source": [
    "!git branch -M main"
   ]
  },
  {
   "cell_type": "code",
   "execution_count": 48,
   "id": "e933f568-d94b-4bf1-b30f-3bd7095371cb",
   "metadata": {},
   "outputs": [
    {
     "name": "stderr",
     "output_type": "stream",
     "text": [
      "error: remote origin already exists.\n"
     ]
    }
   ],
   "source": [
    "!git remote add origin https://github.com/hafizullah22/Sentiment-Analysis-on-Tweeter-Post.git"
   ]
  },
  {
   "cell_type": "code",
   "execution_count": 49,
   "id": "2b00bff9-d1f4-42b6-bf73-2e8c4ada37a8",
   "metadata": {},
   "outputs": [
    {
     "name": "stderr",
     "output_type": "stream",
     "text": [
      "remote: Repository not found.\n",
      "fatal: repository 'https://github.com/hafizullah22/rokomari.git/' not found\n"
     ]
    }
   ],
   "source": [
    "!git push -u origin main"
   ]
  },
  {
   "cell_type": "code",
   "execution_count": 50,
   "id": "86e86ad4-ed95-4708-8927-9d47c07efb80",
   "metadata": {},
   "outputs": [
    {
     "name": "stdout",
     "output_type": "stream",
     "text": [
      "origin\thttps://github.com/hafizullah22/rokomari.git (fetch)\n",
      "origin\thttps://github.com/hafizullah22/rokomari.git (push)\n"
     ]
    }
   ],
   "source": [
    "!git remote -v"
   ]
  },
  {
   "cell_type": "code",
   "execution_count": 51,
   "id": "5916abec-c113-425e-b520-90509bb253ce",
   "metadata": {},
   "outputs": [],
   "source": [
    "!git remote set-url origin https://github.com/hafizullah22/Sentiment-Analysis-on-Tweeter-Post.git"
   ]
  },
  {
   "cell_type": "code",
   "execution_count": 52,
   "id": "e44db7d1-87ac-414a-a8e6-0a2a0be6d7f8",
   "metadata": {},
   "outputs": [
    {
     "name": "stderr",
     "output_type": "stream",
     "text": [
      "warning: in the working copy of 'Tweet.ipynb', LF will be replaced by CRLF the next time Git touches it\n"
     ]
    }
   ],
   "source": [
    "!git add ."
   ]
  },
  {
   "cell_type": "code",
   "execution_count": 53,
   "id": "11e00c84-b0b7-4c65-8a1b-6b1098e05007",
   "metadata": {},
   "outputs": [
    {
     "name": "stdout",
     "output_type": "stream",
     "text": [
      "[main 60aedaa] Data Cleaning\n",
      " 1 file changed, 128 insertions(+), 5 deletions(-)\n"
     ]
    }
   ],
   "source": [
    "!git commit -m \"Data Cleaning\""
   ]
  },
  {
   "cell_type": "code",
   "execution_count": 54,
   "id": "b0f0ac85-c4a0-4d44-ade7-7604729f28f8",
   "metadata": {},
   "outputs": [
    {
     "name": "stderr",
     "output_type": "stream",
     "text": [
      "remote: error: Trace: a34952bd04d000b349cc820f110b7d48e689edeb2a2cbd10cfac0a7f1d8b8381        \n",
      "remote: error: See https://gh.io/lfs for more information.        \n",
      "remote: error: File tweet.csv is 227.74 MB; this exceeds GitHub's file size limit of 100.00 MB        \n",
      "remote: error: GH001: Large files detected. You may want to try Git Large File Storage - https://git-lfs.github.com.        \n",
      "To https://github.com/hafizullah22/Sentiment-Analysis-on-Tweeter-Post.git\n",
      " ! [remote rejected] main -> main (pre-receive hook declined)\n",
      "error: failed to push some refs to 'https://github.com/hafizullah22/Sentiment-Analysis-on-Tweeter-Post.git'\n"
     ]
    }
   ],
   "source": [
    "!git push origin main"
   ]
  },
  {
   "cell_type": "code",
   "execution_count": null,
   "id": "95aca749-a523-48f9-8d63-5e1e0a14b9d5",
   "metadata": {},
   "outputs": [],
   "source": []
  }
 ],
 "metadata": {
  "kernelspec": {
   "display_name": "Python 3 (ipykernel)",
   "language": "python",
   "name": "python3"
  },
  "language_info": {
   "codemirror_mode": {
    "name": "ipython",
    "version": 3
   },
   "file_extension": ".py",
   "mimetype": "text/x-python",
   "name": "python",
   "nbconvert_exporter": "python",
   "pygments_lexer": "ipython3",
   "version": "3.12.3"
  }
 },
 "nbformat": 4,
 "nbformat_minor": 5
}
