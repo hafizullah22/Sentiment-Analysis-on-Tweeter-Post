{
 "cells": [
  {
   "cell_type": "code",
   "execution_count": 42,
   "id": "52aea0ff-fc1e-4ff5-8bd3-070b0636b09b",
   "metadata": {},
   "outputs": [
    {
     "name": "stdout",
     "output_type": "stream",
     "text": [
      "                                                text  target sentiment  \\\n",
      "0  @switchfoot http://twitpic.com/2y1zl - Awww, t...       0  Negative   \n",
      "1  is upset that he can't update his Facebook by ...       0  Negative   \n",
      "2  @Kenichan I dived many times for the ball. Man...       0  Negative   \n",
      "3    my whole body feels itchy and like its on fire        0  Negative   \n",
      "4  @nationwideclass no, it's not behaving at all....       0  Negative   \n",
      "\n",
      "                                          lower_text  \\\n",
      "0  @switchfoot http://twitpic.com/2y1zl - awww, t...   \n",
      "1  is upset that he can't update his facebook by ...   \n",
      "2  @kenichan i dived many times for the ball. man...   \n",
      "3    my whole body feels itchy and like its on fire    \n",
      "4  @nationwideclass no, it's not behaving at all....   \n",
      "\n",
      "                                              no_url  \\\n",
      "0  @switchfoot  - a that's a bummer.  you shoulda...   \n",
      "1  is upset that he can't update his facebook by ...   \n",
      "2  @kenichan i dived many times for the ball. man...   \n",
      "3    my whole body feels itchy and like its on fire    \n",
      "4  @nationwideclass no, it's not behaving at all....   \n",
      "\n",
      "                                          no_mention  \\\n",
      "0    - a that's a bummer.  you shoulda got david ...   \n",
      "1  is upset that he can't update his facebook by ...   \n",
      "2   i dived many times for the ball. managed to s...   \n",
      "3    my whole body feels itchy and like its on fire    \n",
      "4   no, it's not behaving at all. i'm mad. why am...   \n",
      "\n",
      "                                          no_hashtag  \n",
      "0    - a that's a bummer.  you shoulda got david ...  \n",
      "1  is upset that he can't update his facebook by ...  \n",
      "2   i dived many times for the ball. managed to s...  \n",
      "3    my whole body feels itchy and like its on fire   \n",
      "4   no, it's not behaving at all. i'm mad. why am...  \n"
     ]
    }
   ],
   "source": [
    "import pandas as pd\n",
    "\n",
    "# Define column names\n",
    "columns = ['target','ids','date','flag','user','text']\n",
    "csv_file = pd.read_csv('tweet.csv', encoding=\"latin1\", names=columns)\n",
    "\n",
    "# Map sentiment labels\n",
    "csv_file['sentiment'] = csv_file['target'].map({0: 'Negative', 2: 'Neutral', 4: 'Positive'})\n",
    "\n",
    "# Make an explicit copy of the relevant columns\n",
    "dataset = csv_file[['text', 'target', 'sentiment']].copy()\n",
    "\n",
    "\n",
    "# Add a new column with lowercase text\n",
    "dataset['lower_text'] = dataset['text'].str.lower()\n",
    "#Remove URLS using apply, lambda and regex\n",
    "dataset['no_url'] = dataset['lower_text'].apply(lambda x: re.sub(r'https\\S+|http\\S+|www\\S+','',str(x)))\n",
    "#remove mentions\n",
    "dataset['no_mention']= dataset['no_url'].apply(lambda x:re.sub(r'@\\w+','',str(x)))\n",
    "#remove hastags\n",
    "dataset['no_hashtag'] = dataset['no_mention'].apply(lambda x : re.sub(r'#w+','',str(x)))\n",
    "\n",
    "print(dataset.head())\n",
    "\n",
    "\n"
   ]
  },
  {
   "cell_type": "code",
   "execution_count": 1,
   "id": "95aca749-a523-48f9-8d63-5e1e0a14b9d5",
   "metadata": {},
   "outputs": [
    {
     "name": "stdout",
     "output_type": "stream",
     "text": [
      "Initialized empty Git repository in C:/Users/ICT Cell/NLP/sentiment Analysis/.git/\n"
     ]
    }
   ],
   "source": [
    "!git init"
   ]
  },
  {
   "cell_type": "code",
   "execution_count": 2,
   "id": "7c31052c-dece-4b28-923b-735fda30ebc1",
   "metadata": {},
   "outputs": [],
   "source": [
    "!git remote add origin https://github.com/hafizullah22/Sentiment-Analysis-on-Tweeter-Post.git"
   ]
  },
  {
   "cell_type": "code",
   "execution_count": 4,
   "id": "4bb3bf50-36da-4f61-92b4-7e56421704e0",
   "metadata": {},
   "outputs": [],
   "source": [
    "with open(\".gitignore\", \"a\") as f:\n",
    "    f.write(\"\\ntweet.csv\\n\")"
   ]
  },
  {
   "cell_type": "code",
   "execution_count": 5,
   "id": "3f4a3ba1-f22b-4a44-bd7d-66f48ea84416",
   "metadata": {},
   "outputs": [
    {
     "name": "stderr",
     "output_type": "stream",
     "text": [
      "git: 'commit-' is not a git command. See 'git --help'.\n",
      "\n",
      "The most similar command is\n",
      "\tcommit\n"
     ]
    }
   ],
   "source": [
    "!git commit- m \"Data Cleaning Task\""
   ]
  },
  {
   "cell_type": "code",
   "execution_count": 6,
   "id": "7b287246-16d2-492e-95e8-60f71be2aa3e",
   "metadata": {},
   "outputs": [
    {
     "name": "stdout",
     "output_type": "stream",
     "text": [
      "On branch master\n",
      "\n",
      "Initial commit\n",
      "\n",
      "Untracked files:\n",
      "  (use \"git add <file>...\" to include in what will be committed)\n",
      "\t.gitignore\n",
      "\t.ipynb_checkpoints/\n",
      "\tTweet.ipynb\n",
      "\n",
      "nothing added to commit but untracked files present (use \"git add\" to track)\n"
     ]
    }
   ],
   "source": [
    "!git commit -m \"Stop tracking tweet.csv\""
   ]
  },
  {
   "cell_type": "code",
   "execution_count": 7,
   "id": "40ef42aa-331d-4fad-b8df-70668e036bb1",
   "metadata": {},
   "outputs": [
    {
     "name": "stderr",
     "output_type": "stream",
     "text": [
      "error: src refspec main does not match any\n",
      "error: failed to push some refs to 'https://github.com/hafizullah22/Sentiment-Analysis-on-Tweeter-Post.git'\n"
     ]
    }
   ],
   "source": [
    "!git push origin main"
   ]
  },
  {
   "cell_type": "code",
   "execution_count": null,
   "id": "d7e92ffe-88d3-4612-8517-fc7c91485ec5",
   "metadata": {},
   "outputs": [],
   "source": []
  }
 ],
 "metadata": {
  "kernelspec": {
   "display_name": "Python 3 (ipykernel)",
   "language": "python",
   "name": "python3"
  },
  "language_info": {
   "codemirror_mode": {
    "name": "ipython",
    "version": 3
   },
   "file_extension": ".py",
   "mimetype": "text/x-python",
   "name": "python",
   "nbconvert_exporter": "python",
   "pygments_lexer": "ipython3",
   "version": "3.12.3"
  }
 },
 "nbformat": 4,
 "nbformat_minor": 5
}
